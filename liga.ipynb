{
 "cells": [
  {
   "cell_type": "code",
   "execution_count": 177,
   "metadata": {},
   "outputs": [],
   "source": [
    "import findspark"
   ]
  },
  {
   "cell_type": "code",
   "execution_count": 250,
   "metadata": {},
   "outputs": [],
   "source": [
    "from pyspark import SparkContext\n",
    "from pyspark.sql import SparkSession, Window, Row\n",
    "from pyspark.sql.functions import *\n",
    "from pyspark.sql.types import *\n",
    "import matplotlib.pyplot as plt"
   ]
  },
  {
   "cell_type": "code",
   "execution_count": 179,
   "metadata": {},
   "outputs": [],
   "source": [
    "spark = SparkSession\\\n",
    "        .builder\\\n",
    "        .appName(\"ligatutorial\")\\\n",
    "        .getOrCreate()"
   ]
  },
  {
   "cell_type": "code",
   "execution_count": 180,
   "metadata": {},
   "outputs": [
    {
     "name": "stdout",
     "output_type": "stream",
     "text": [
      "+--------+---+------+----------+-------------+--------------+----+----+---+\n",
      "|Match_ID|Div|Season|      Date|     HomeTeam|      AwayTeam|FTHG|FTAG|FTR|\n",
      "+--------+---+------+----------+-------------+--------------+----+----+---+\n",
      "|       1| D2|  2009|2010-04-04|   Oberhausen|Kaiserslautern|   2|   1|  H|\n",
      "|       2| D2|  2009|2009-11-01|  Munich 1860|Kaiserslautern|   0|   1|  A|\n",
      "|       3| D2|  2009|2009-10-04|Frankfurt FSV|Kaiserslautern|   1|   1|  D|\n",
      "|       4| D2|  2009|2010-02-21|Frankfurt FSV|     Karlsruhe|   2|   1|  H|\n",
      "|       5| D2|  2009|2009-12-06|        Ahlen|     Karlsruhe|   1|   3|  A|\n",
      "+--------+---+------+----------+-------------+--------------+----+----+---+\n",
      "only showing top 5 rows\n",
      "\n"
     ]
    }
   ],
   "source": [
    "df_matches =  spark.read.format('csv').options(header='true').load(\"/Users/user/Desktop/GitHub/pyspark_projects/Matches.csv\")\n",
    "df_matches.show(5)"
   ]
  },
  {
   "cell_type": "code",
   "execution_count": 181,
   "metadata": {},
   "outputs": [
    {
     "name": "stdout",
     "output_type": "stream",
     "text": [
      "+--------+---+------+----------+-------------+--------------+-------------+-------------+------+\n",
      "|Match_ID|Div|Season|      Date|     HomeTeam|      AwayTeam|HomeTeamGoals|AwayTeamGoals|Result|\n",
      "+--------+---+------+----------+-------------+--------------+-------------+-------------+------+\n",
      "|       1| D2|  2009|2010-04-04|   Oberhausen|Kaiserslautern|            2|            1|     H|\n",
      "|       2| D2|  2009|2009-11-01|  Munich 1860|Kaiserslautern|            0|            1|     A|\n",
      "|       3| D2|  2009|2009-10-04|Frankfurt FSV|Kaiserslautern|            1|            1|     D|\n",
      "+--------+---+------+----------+-------------+--------------+-------------+-------------+------+\n",
      "only showing top 3 rows\n",
      "\n"
     ]
    }
   ],
   "source": [
    "df = df_matches.withColumnRenamed(\"FTHG\", \"HomeTeamGoals\")\\\n",
    "    .withColumnRenamed(\"FTAG\", \"AwayTeamGoals\")\\\n",
    "        .withColumnRenamed(\"FTR\", \"Result\")\n",
    "df.show(3)"
   ]
  },
  {
   "cell_type": "code",
   "execution_count": 182,
   "metadata": {},
   "outputs": [
    {
     "name": "stdout",
     "output_type": "stream",
     "text": [
      "+--------+---+------+----------+-------------+--------------+-------------+-------------+------+-----------+-----------+-------+\n",
      "|Match_ID|Div|Season|      Date|     HomeTeam|      AwayTeam|HomeTeamGoals|AwayTeamGoals|Result|HomeTeamWin|AwayTeamWin|GameTie|\n",
      "+--------+---+------+----------+-------------+--------------+-------------+-------------+------+-----------+-----------+-------+\n",
      "|       1| D2|  2009|2010-04-04|   Oberhausen|Kaiserslautern|            2|            1|     H|          1|          0|      0|\n",
      "|       2| D2|  2009|2009-11-01|  Munich 1860|Kaiserslautern|            0|            1|     A|          0|          1|      0|\n",
      "|       3| D2|  2009|2009-10-04|Frankfurt FSV|Kaiserslautern|            1|            1|     D|          0|          0|      1|\n",
      "+--------+---+------+----------+-------------+--------------+-------------+-------------+------+-----------+-----------+-------+\n",
      "only showing top 3 rows\n",
      "\n"
     ]
    }
   ],
   "source": [
    "df = df\\\n",
    "    .withColumn('HomeTeamWin', when(col('Result') == 'H', 1).otherwise(0)) \\\n",
    "    .withColumn('AwayTeamWin', when(col('Result') == 'A', 1).otherwise(0)) \\\n",
    "    .withColumn('GameTie', when(col('Result') == 'D', 1).otherwise(0))\n",
    "df.show(3)"
   ]
  },
  {
   "cell_type": "code",
   "execution_count": 183,
   "metadata": {},
   "outputs": [
    {
     "name": "stdout",
     "output_type": "stream",
     "text": [
      "+--------+---+------+----------+-------------+----------+-------------+-------------+------+-----------+-----------+-------+\n",
      "|Match_ID|Div|Season|      Date|     HomeTeam|  AwayTeam|HomeTeamGoals|AwayTeamGoals|Result|HomeTeamWin|AwayTeamWin|GameTie|\n",
      "+--------+---+------+----------+-------------+----------+-------------+-------------+------+-----------+-----------+-------+\n",
      "|      21| D1|  2009|2010-02-06|       Bochum|Leverkusen|            1|            1|     D|          0|          0|      1|\n",
      "|      22| D1|  2009|2009-11-22|Bayern Munich|Leverkusen|            1|            1|     D|          0|          0|      1|\n",
      "+--------+---+------+----------+-------------+----------+-------------+-------------+------+-----------+-----------+-------+\n",
      "only showing top 2 rows\n",
      "\n"
     ]
    }
   ],
   "source": [
    "df = df.filter((col(\"Season\") >= 2000) & (col(\"Season\") <= 2010) & (col(\"Div\") == \"D1\"))\n",
    "df.show(2)"
   ]
  },
  {
   "cell_type": "code",
   "execution_count": 184,
   "metadata": {},
   "outputs": [
    {
     "name": "stdout",
     "output_type": "stream",
     "text": [
      "+------+--------------+------------+-------------+------------+---------------+----------------+\n",
      "|Season|          Team|TotalAwayWin|TotalAwayLoss|TotalAwayTie|AwayScoredGoals|AwayAgainstGoals|\n",
      "+------+--------------+------------+-------------+------------+---------------+----------------+\n",
      "|  2005|Kaiserslautern|           3|           10|           4|           21.0|            38.0|\n",
      "|  2006|       Cottbus|           5|            9|           3|           17.0|            27.0|\n",
      "|  2001|      St Pauli|           0|           11|           6|           18.0|            42.0|\n",
      "|  2005|         Mainz|           3|           10|           4|           15.0|            24.0|\n",
      "|  2006|       Hamburg|           6|            5|           6|           21.0|            18.0|\n",
      "|  2003|     Stuttgart|           9|            5|           3|           23.0|            11.0|\n",
      "|  2003| Hansa Rostock|           2|            8|           7|           21.0|            36.0|\n",
      "|  2007| Hansa Rostock|           3|           12|           2|           13.0|            31.0|\n",
      "|  2001|    M'gladbach|           3|            7|           7|           20.0|            32.0|\n",
      "|  2002|    M'gladbach|           1|           12|           4|           12.0|            34.0|\n",
      "|  2007|       Cottbus|           1|            9|           7|           10.0|            36.0|\n",
      "|  2006|        Bochum|           6|            6|           5|           26.0|            20.0|\n",
      "|  2008|     Stuttgart|           7|            6|           4|           29.0|            29.0|\n",
      "|  2007|        Bochum|           5|           10|           2|           16.0|            26.0|\n",
      "|  2004|        Hertha|           7|            5|           5|           25.0|            18.0|\n",
      "|  2003|       FC Koln|           0|           14|           3|           10.0|            34.0|\n",
      "|  2006| Werder Bremen|           9|            3|           5|           43.0|            22.0|\n",
      "|  2003| Ein Frankfurt|           3|           13|           1|           11.0|            29.0|\n",
      "|  2003|       Hamburg|           3|           10|           4|           14.0|            38.0|\n",
      "|  2002| Bayern Munich|          10|            4|           3|           33.0|            13.0|\n",
      "+------+--------------+------------+-------------+------------+---------------+----------------+\n",
      "only showing top 20 rows\n",
      "\n"
     ]
    }
   ],
   "source": [
    "home = df.groupby('Season', 'HomeTeam') \\\n",
    "       .agg(sum('HomeTeamWin').alias('TotalHomeWin'),\n",
    "            sum('AwayTeamWin').alias('TotalHomeLoss'),\n",
    "            sum('GameTie').alias('TotalHomeTie'),\n",
    "            sum('HomeTeamGoals').alias('HomeScoredGoals'),\n",
    "            sum('AwayTeamGoals').alias('HomeAgainstGoals')) \\\n",
    "       .withColumnRenamed('HomeTeam', 'Team')\n",
    "\n",
    "#away game features \n",
    "away =  df.groupby('Season', 'AwayTeam') \\\n",
    "       .agg(sum('AwayTeamWin').alias('TotalAwayWin'),\n",
    "            sum('HomeTeamWin').alias('TotalAwayLoss'),\n",
    "            sum('GameTie').alias('TotalAwayTie'),\n",
    "            sum('AwayTeamGoals').alias('AwayScoredGoals'),\n",
    "            sum('HomeTeamGoals').alias('AwayAgainstGoals'))  \\\n",
    "       .withColumnRenamed('AwayTeam', 'Team')\n",
    "away.show()"
   ]
  },
  {
   "cell_type": "code",
   "execution_count": 185,
   "metadata": {},
   "outputs": [
    {
     "data": {
      "text/html": [
       "<div>\n",
       "<style scoped>\n",
       "    .dataframe tbody tr th:only-of-type {\n",
       "        vertical-align: middle;\n",
       "    }\n",
       "\n",
       "    .dataframe tbody tr th {\n",
       "        vertical-align: top;\n",
       "    }\n",
       "\n",
       "    .dataframe thead th {\n",
       "        text-align: right;\n",
       "    }\n",
       "</style>\n",
       "<table border=\"1\" class=\"dataframe\">\n",
       "  <thead>\n",
       "    <tr style=\"text-align: right;\">\n",
       "      <th></th>\n",
       "      <th>Team</th>\n",
       "      <th>Season</th>\n",
       "      <th>GoalsScored</th>\n",
       "      <th>GoalsAgainst</th>\n",
       "      <th>GoalDifferentials</th>\n",
       "      <th>Win</th>\n",
       "      <th>Loss</th>\n",
       "      <th>Tie</th>\n",
       "      <th>WinPct</th>\n",
       "      <th>TeamPosition</th>\n",
       "    </tr>\n",
       "  </thead>\n",
       "  <tbody>\n",
       "    <tr>\n",
       "      <th>0</th>\n",
       "      <td>Bayern Munich</td>\n",
       "      <td>2000</td>\n",
       "      <td>62.0</td>\n",
       "      <td>37.0</td>\n",
       "      <td>25.0</td>\n",
       "      <td>19</td>\n",
       "      <td>9</td>\n",
       "      <td>6</td>\n",
       "      <td>55.88</td>\n",
       "      <td>1</td>\n",
       "    </tr>\n",
       "    <tr>\n",
       "      <th>1</th>\n",
       "      <td>Leverkusen</td>\n",
       "      <td>2001</td>\n",
       "      <td>77.0</td>\n",
       "      <td>38.0</td>\n",
       "      <td>39.0</td>\n",
       "      <td>21</td>\n",
       "      <td>7</td>\n",
       "      <td>6</td>\n",
       "      <td>61.76</td>\n",
       "      <td>1</td>\n",
       "    </tr>\n",
       "    <tr>\n",
       "      <th>2</th>\n",
       "      <td>Bayern Munich</td>\n",
       "      <td>2002</td>\n",
       "      <td>70.0</td>\n",
       "      <td>25.0</td>\n",
       "      <td>45.0</td>\n",
       "      <td>23</td>\n",
       "      <td>5</td>\n",
       "      <td>6</td>\n",
       "      <td>67.65</td>\n",
       "      <td>1</td>\n",
       "    </tr>\n",
       "    <tr>\n",
       "      <th>3</th>\n",
       "      <td>Werder Bremen</td>\n",
       "      <td>2003</td>\n",
       "      <td>79.0</td>\n",
       "      <td>38.0</td>\n",
       "      <td>41.0</td>\n",
       "      <td>22</td>\n",
       "      <td>4</td>\n",
       "      <td>8</td>\n",
       "      <td>64.71</td>\n",
       "      <td>1</td>\n",
       "    </tr>\n",
       "    <tr>\n",
       "      <th>4</th>\n",
       "      <td>Bayern Munich</td>\n",
       "      <td>2004</td>\n",
       "      <td>75.0</td>\n",
       "      <td>33.0</td>\n",
       "      <td>42.0</td>\n",
       "      <td>24</td>\n",
       "      <td>5</td>\n",
       "      <td>5</td>\n",
       "      <td>70.59</td>\n",
       "      <td>1</td>\n",
       "    </tr>\n",
       "    <tr>\n",
       "      <th>5</th>\n",
       "      <td>Bayern Munich</td>\n",
       "      <td>2005</td>\n",
       "      <td>67.0</td>\n",
       "      <td>32.0</td>\n",
       "      <td>35.0</td>\n",
       "      <td>22</td>\n",
       "      <td>3</td>\n",
       "      <td>9</td>\n",
       "      <td>64.71</td>\n",
       "      <td>1</td>\n",
       "    </tr>\n",
       "    <tr>\n",
       "      <th>6</th>\n",
       "      <td>Stuttgart</td>\n",
       "      <td>2006</td>\n",
       "      <td>61.0</td>\n",
       "      <td>37.0</td>\n",
       "      <td>24.0</td>\n",
       "      <td>21</td>\n",
       "      <td>6</td>\n",
       "      <td>7</td>\n",
       "      <td>61.76</td>\n",
       "      <td>1</td>\n",
       "    </tr>\n",
       "    <tr>\n",
       "      <th>7</th>\n",
       "      <td>Bayern Munich</td>\n",
       "      <td>2007</td>\n",
       "      <td>68.0</td>\n",
       "      <td>21.0</td>\n",
       "      <td>47.0</td>\n",
       "      <td>22</td>\n",
       "      <td>2</td>\n",
       "      <td>10</td>\n",
       "      <td>64.71</td>\n",
       "      <td>1</td>\n",
       "    </tr>\n",
       "    <tr>\n",
       "      <th>8</th>\n",
       "      <td>Wolfsburg</td>\n",
       "      <td>2008</td>\n",
       "      <td>80.0</td>\n",
       "      <td>41.0</td>\n",
       "      <td>39.0</td>\n",
       "      <td>21</td>\n",
       "      <td>7</td>\n",
       "      <td>6</td>\n",
       "      <td>61.76</td>\n",
       "      <td>1</td>\n",
       "    </tr>\n",
       "    <tr>\n",
       "      <th>9</th>\n",
       "      <td>Bayern Munich</td>\n",
       "      <td>2009</td>\n",
       "      <td>72.0</td>\n",
       "      <td>31.0</td>\n",
       "      <td>41.0</td>\n",
       "      <td>20</td>\n",
       "      <td>4</td>\n",
       "      <td>10</td>\n",
       "      <td>58.82</td>\n",
       "      <td>1</td>\n",
       "    </tr>\n",
       "    <tr>\n",
       "      <th>10</th>\n",
       "      <td>Dortmund</td>\n",
       "      <td>2010</td>\n",
       "      <td>67.0</td>\n",
       "      <td>22.0</td>\n",
       "      <td>45.0</td>\n",
       "      <td>23</td>\n",
       "      <td>5</td>\n",
       "      <td>6</td>\n",
       "      <td>67.65</td>\n",
       "      <td>1</td>\n",
       "    </tr>\n",
       "  </tbody>\n",
       "</table>\n",
       "</div>"
      ],
      "text/plain": [
       "             Team Season  GoalsScored  GoalsAgainst  GoalDifferentials  Win  \\\n",
       "0   Bayern Munich   2000         62.0          37.0               25.0   19   \n",
       "1      Leverkusen   2001         77.0          38.0               39.0   21   \n",
       "2   Bayern Munich   2002         70.0          25.0               45.0   23   \n",
       "3   Werder Bremen   2003         79.0          38.0               41.0   22   \n",
       "4   Bayern Munich   2004         75.0          33.0               42.0   24   \n",
       "5   Bayern Munich   2005         67.0          32.0               35.0   22   \n",
       "6       Stuttgart   2006         61.0          37.0               24.0   21   \n",
       "7   Bayern Munich   2007         68.0          21.0               47.0   22   \n",
       "8       Wolfsburg   2008         80.0          41.0               39.0   21   \n",
       "9   Bayern Munich   2009         72.0          31.0               41.0   20   \n",
       "10       Dortmund   2010         67.0          22.0               45.0   23   \n",
       "\n",
       "    Loss  Tie  WinPct  TeamPosition  \n",
       "0      9    6   55.88             1  \n",
       "1      7    6   61.76             1  \n",
       "2      5    6   67.65             1  \n",
       "3      4    8   64.71             1  \n",
       "4      5    5   70.59             1  \n",
       "5      3    9   64.71             1  \n",
       "6      6    7   61.76             1  \n",
       "7      2   10   64.71             1  \n",
       "8      7    6   61.76             1  \n",
       "9      4   10   58.82             1  \n",
       "10     5    6   67.65             1  "
      ]
     },
     "execution_count": 185,
     "metadata": {},
     "output_type": "execute_result"
    }
   ],
   "source": [
    "window = ['Season']\n",
    "window = Window.partitionBy(window).orderBy(col('WinPct').desc(), col('GoalDifferentials').desc())\n",
    "table = home.join(away, ['Team', 'Season'],  'inner') \\\n",
    "    .withColumn('GoalsScored', col('HomeScoredGoals') + col('AwayScoredGoals')) \\\n",
    "    .withColumn('GoalsAgainst', col('HomeAgainstGoals') + col('AwayAgainstGoals')) \\\n",
    "    .withColumn('GoalDifferentials', col('GoalsScored') - col('GoalsAgainst')) \\\n",
    "    .withColumn('Win', col('TotalHomeWin') + col('TotalAwayWin')) \\\n",
    "    .withColumn('Loss', col('TotalHomeLoss') + col('TotalAwayLoss')) \\\n",
    "    .withColumn('Tie', col('TotalHomeTie') + col('TotalAwayTie')) \\\n",
    "    .withColumn('WinPct', round((100* col('Win')/(col('Win') + col('Loss') + col('Tie'))), 2)) \\\n",
    "    .drop('HomeScoredGoals', 'AwayScoredGoals', 'HomeAgainstGoals', 'AwayAgainstGoals') \\\n",
    "    .drop('TotalHomeWin', 'TotalAwayWin', 'TotalHomeLoss', 'TotalAwayLoss', 'TotalHomeTie', 'TotalAwayTie') \\\n",
    "    .withColumn('TeamPosition', rank().over(window)) \n",
    "\n",
    "table_df = table.filter(col('TeamPosition') == 1).orderBy(asc('Season')).toPandas()\n",
    "table_df"
   ]
  },
  {
   "cell_type": "code",
   "execution_count": 251,
   "metadata": {},
   "outputs": [
    {
     "name": "stdout",
     "output_type": "stream",
     "text": [
      "+-------------+----------+\n",
      "|         Team|Titles Won|\n",
      "+-------------+----------+\n",
      "|Bayern Munich|         6|\n",
      "|    Stuttgart|         1|\n",
      "|   Leverkusen|         1|\n",
      "|    Wolfsburg|         1|\n",
      "|Werder Bremen|         1|\n",
      "|     Dortmund|         1|\n",
      "+-------------+----------+\n",
      "\n"
     ]
    }
   ],
   "source": [
    "titles_won = spark.createDataFrame(table_df).select('Team', 'Season').groupby(\"Team\").count()\\\n",
    "    .withColumnRenamed(\"count\", \"Titles Won\").orderBy(desc('count')).show()\n"
   ]
  },
  {
   "cell_type": "markdown",
   "metadata": {},
   "source": [
    "Which have been relegated in the past 10 years and how many times?"
   ]
  },
  {
   "cell_type": "code",
   "execution_count": 252,
   "metadata": {},
   "outputs": [
    {
     "name": "stdout",
     "output_type": "stream",
     "text": [
      "+-------------+---------------------+\n",
      "|         Team|Number of Relegations|\n",
      "+-------------+---------------------+\n",
      "|      FC Koln|                    3|\n",
      "|    Wolfsburg|                    3|\n",
      "|    Bielefeld|                    3|\n",
      "|       Bochum|                    3|\n",
      "|     Nurnberg|                    3|\n",
      "|Hansa Rostock|                    2|\n",
      "|      Cottbus|                    2|\n",
      "|     Freiburg|                    2|\n",
      "|   M'gladbach|                    2|\n",
      "|     St Pauli|                    2|\n",
      "| Unterhaching|                    1|\n",
      "|       Hertha|                    1|\n",
      "|    Stuttgart|                    1|\n",
      "|     Duisburg|                    1|\n",
      "|Ein Frankfurt|                    1|\n",
      "|  Munich 1860|                    1|\n",
      "|        Mainz|                    1|\n",
      "+-------------+---------------------+\n",
      "\n"
     ]
    }
   ],
   "source": [
    "relegated = table.filter((col('TeamPosition')== 16) | (col('TeamPosition') == 17) | (col('TeamPosition') == 18)).orderBy(asc(\"Season\"))\n",
    "relegated.groupby(\"Season\")\n",
    "relegated.groupby(\"Team\").agg(count(\"Team\"))\\\n",
    "    .withColumnRenamed(\"count(Team)\", \"Number of Relegations\").orderBy(desc(\"Number of Relegations\")).show()\n"
   ]
  },
  {
   "cell_type": "code",
   "execution_count": 196,
   "metadata": {},
   "outputs": [
    {
     "name": "stdout",
     "output_type": "stream",
     "text": [
      "+-------------+------+-----------+------------+-----------------+---+----+---+------+------------+\n",
      "|         Team|Season|GoalsScored|GoalsAgainst|GoalDifferentials|Win|Loss|Tie|WinPct|TeamPosition|\n",
      "+-------------+------+-----------+------------+-----------------+---+----+---+------+------------+\n",
      "|Bayern Munich|  2005|       67.0|        32.0|             35.0| 22|   3|  9| 64.71|           1|\n",
      "|Werder Bremen|  2005|       79.0|        37.0|             42.0| 21|   6|  7| 61.76|           2|\n",
      "|      Hamburg|  2005|       53.0|        30.0|             23.0| 21|   8|  5| 61.76|           3|\n",
      "+-------------+------+-----------+------------+-----------------+---+----+---+------+------------+\n",
      "only showing top 3 rows\n",
      "\n"
     ]
    }
   ],
   "source": [
    "table.show(3)"
   ]
  },
  {
   "cell_type": "markdown",
   "metadata": {},
   "source": [
    "Which Season is the most competitive?"
   ]
  },
  {
   "cell_type": "code",
   "execution_count": 350,
   "metadata": {},
   "outputs": [
    {
     "name": "stdout",
     "output_type": "stream",
     "text": [
      "+------+------------------+\n",
      "|Season|            sum(h)|\n",
      "+------+------------------+\n",
      "|  2000|35.290000000000006|\n",
      "|  2006| 44.10999999999999|\n",
      "|  2009|             44.11|\n",
      "|  2007| 44.11999999999999|\n",
      "|  2010|44.120000000000005|\n",
      "|  2003|47.059999999999995|\n",
      "|  2002|             47.06|\n",
      "|  2005|49.999999999999986|\n",
      "|  2001|49.999999999999986|\n",
      "|  2008|49.999999999999986|\n",
      "|  2004|61.769999999999996|\n",
      "+------+------------------+\n",
      "\n"
     ]
    }
   ],
   "source": [
    "import pyspark.sql.functions as f\n",
    "w =Window.partitionBy('Season').orderBy(\"TeamPosition\")\n",
    "compete = table.select(\"*\", abs(f.col('WinPct') - f.lag('WinPct').over(w)).alias('h'))\n",
    "compete = compete.na.fill(0)\n",
    "most = compete.groupby(\"Season\").sum('h').orderBy(asc(\"sum(h)\"))\n",
    "most.show()"
   ]
  }
 ],
 "metadata": {
  "interpreter": {
   "hash": "b5bcfd7e5da0674ecf8907623987f9ffb43dd15776082ddd7ed79d842970f7a6"
  },
  "kernelspec": {
   "display_name": "Python 3.5.6 64-bit ('base': conda)",
   "language": "python",
   "name": "python3"
  },
  "language_info": {
   "codemirror_mode": {
    "name": "ipython",
    "version": 3
   },
   "file_extension": ".py",
   "mimetype": "text/x-python",
   "name": "python",
   "nbconvert_exporter": "python",
   "pygments_lexer": "ipython3",
   "version": "3.5.6"
  },
  "orig_nbformat": 4
 },
 "nbformat": 4,
 "nbformat_minor": 2
}
